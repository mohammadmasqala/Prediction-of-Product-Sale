{
  "nbformat": 4,
  "nbformat_minor": 0,
  "metadata": {
    "colab": {
      "provenance": [],
      "authorship_tag": "ABX9TyMJ1fvJUJxTWOb9Ji3DiRAA",
      "include_colab_link": true
    },
    "kernelspec": {
      "name": "python3",
      "display_name": "Python 3"
    },
    "language_info": {
      "name": "python"
    }
  },
  "cells": [
    {
      "cell_type": "markdown",
      "metadata": {
        "id": "view-in-github",
        "colab_type": "text"
      },
      "source": [
        "<a href=\"https://colab.research.google.com/github/mohammadmasqala/Prediction-of-Product-Sale/blob/main/Prediction_of_Product_Sale.ipynb\" target=\"_parent\"><img src=\"https://colab.research.google.com/assets/colab-badge.svg\" alt=\"Open In Colab\"/></a>"
      ]
    },
    {
      "cell_type": "markdown",
      "source": [
        "# Prediction of Product Sale\n",
        "\n",
        "- Author: Mohammad Masqala\n"
      ],
      "metadata": {
        "id": "Tqr7iHBlHL6k"
      }
    },
    {
      "cell_type": "markdown",
      "source": [
        "## Project Overview\n"
      ],
      "metadata": {
        "id": "QaXqjs5aJfKx"
      }
    },
    {
      "cell_type": "markdown",
      "source": [],
      "metadata": {
        "id": "OTcjCZc4Uy89"
      }
    },
    {
      "cell_type": "markdown",
      "source": [
        "## Load and Inspect Data\n"
      ],
      "metadata": {
        "id": "ubmD8JHYJfxi"
      }
    },
    {
      "cell_type": "code",
      "source": [],
      "metadata": {
        "id": "BgPyfAD-U36_"
      },
      "execution_count": null,
      "outputs": []
    },
    {
      "cell_type": "markdown",
      "source": [
        "## Clean Data\n"
      ],
      "metadata": {
        "id": "zNupcGSIJgOn"
      }
    },
    {
      "cell_type": "code",
      "source": [],
      "metadata": {
        "id": "8n_ZCFB4U6iq"
      },
      "execution_count": null,
      "outputs": []
    },
    {
      "cell_type": "markdown",
      "source": [
        "## Exploratory Data Analysis\n"
      ],
      "metadata": {
        "id": "CY8Iwp0qJrdq"
      }
    },
    {
      "cell_type": "code",
      "source": [],
      "metadata": {
        "id": "3Cb-IgSFU9JE"
      },
      "execution_count": null,
      "outputs": []
    },
    {
      "cell_type": "markdown",
      "source": [
        "## Feature Inspection"
      ],
      "metadata": {
        "id": "qWwaZTvaJ0JL"
      }
    },
    {
      "cell_type": "code",
      "source": [],
      "metadata": {
        "id": "VeRpKHVsU_Xl"
      },
      "execution_count": null,
      "outputs": []
    }
  ]
}